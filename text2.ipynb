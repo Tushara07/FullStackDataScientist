{
 "cells": [
  {
   "cell_type": "code",
   "execution_count": 2,
   "id": "a9645efa",
   "metadata": {},
   "outputs": [
    {
     "name": "stdout",
     "output_type": "stream",
     "text": [
      "310\n"
     ]
    }
   ],
   "source": [
    "a,aq=map(int,input().split())\n",
    "b,bq=map(int,input().split())\n",
    "c,cq=map(int,input().split())\n",
    "total=(a*aq)+(b*bq)+(c*cq)\n",
    "print(total)"
   ]
  },
  {
   "cell_type": "code",
   "execution_count": 4,
   "id": "e5f8b3e3",
   "metadata": {},
   "outputs": [
    {
     "name": "stdout",
     "output_type": "stream",
     "text": [
      "Addition: 19\n",
      "Subtraction 11\n",
      "Multiplication 60\n",
      "Division 3.75\n",
      "Modulus 3\n"
     ]
    }
   ],
   "source": [
    "a=int(input())\n",
    "b=int(input())\n",
    "print('Addition:',a+b)\n",
    "print('Subtraction',a-b)\n",
    "print('Multiplication',a*b)\n",
    "print('Division',a/b)\n",
    "print('Modulus',a%b)"
   ]
  },
  {
   "cell_type": "code",
   "execution_count": 8,
   "id": "3e45a0a1",
   "metadata": {},
   "outputs": [
    {
     "name": "stdout",
     "output_type": "stream",
     "text": [
      "Fail\n"
     ]
    }
   ],
   "source": [
    "a=int(input())\n",
    "if a>=90:\n",
    "    print(\"Grade A+\")\n",
    "elif a<90 and a>=80:\n",
    "    print(\"Grade A\")\n",
    "elif a<80 and a>=70:\n",
    "    print(\"Grade B\")\n",
    "elif a<70 and a>=60:\n",
    "    print(\"Grade C\")\n",
    "else:\n",
    "    print(\"Fail\")"
   ]
  },
  {
   "cell_type": "code",
   "execution_count": 17,
   "id": "9a5bb13f",
   "metadata": {},
   "outputs": [
    {
     "name": "stdout",
     "output_type": "stream",
     "text": [
      "Highest: 50\n",
      "Lowest: 10\n",
      "Average: 30.0\n"
     ]
    }
   ],
   "source": [
    "a=list(map(int,input().split()))\n",
    "print(\"Highest:\",max(a))\n",
    "print(\"Lowest:\",min(a))\n",
    "avg=sum(a)/len(a)\n",
    "print(\"Average:\",avg)"
   ]
  },
  {
   "cell_type": "code",
   "execution_count": null,
   "id": "37862f81",
   "metadata": {},
   "outputs": [
    {
     "name": "stdout",
     "output_type": "stream",
     "text": [
      "phone number of  Ravi : 789456123\n"
     ]
    }
   ],
   "source": [
    "dict={}\n",
    "n=int(input(\"Number of values:\"))\n",
    "for _ in range(n):\n",
    "    key=input(\"Name:\")\n",
    "    value=int(input(\"Phone number:\"))\n",
    "    dict[key]=value\n",
    "s=input()\n",
    "if s in dict:\n",
    "    print(\"phone number of \",s,\":\",dict[s])\n",
    "else:\n",
    "    print(\"Not found\")"
   ]
  },
  {
   "cell_type": "code",
   "execution_count": 51,
   "id": "8410ee7c",
   "metadata": {},
   "outputs": [
    {
     "name": "stdout",
     "output_type": "stream",
     "text": [
      "Chicken Banana\n",
      "words: 2\n",
      "characters: 13\n",
      "vowels: 5\n"
     ]
    }
   ],
   "source": [
    "a=input().strip()\n",
    "w=a.split()\n",
    "c=len(a.replace(\" \",\"\"))\n",
    "v=0\n",
    "for ch in a:\n",
    "    if ch in 'aeiouAEIOU':\n",
    "        v+=1\n",
    "wc=len(w)\n",
    "print(a)\n",
    "print('words:',wc)\n",
    "print('characters:',c)\n",
    "print('vowels:',v)                                                                                                                                                                                                                               "
   ]
  },
  {
   "cell_type": "code",
   "execution_count": 56,
   "id": "d9ed9e45",
   "metadata": {},
   "outputs": [
    {
     "name": "stdout",
     "output_type": "stream",
     "text": [
      "CI: 512.5\n",
      "Total amount: 5512.5\n"
     ]
    }
   ],
   "source": [
    "p=float(input())\n",
    "r=float(input())\n",
    "t=float(input())\n",
    "intrest=input()\n",
    "ta=0\n",
    "if intrest.lower() == 'simple':\n",
    "    si=(p*t*r)/100\n",
    "    ta=p+si\n",
    "    print('SI:',si)\n",
    "    print('Total amount:',ta)\n",
    "elif intrest.lower() == 'compound':\n",
    "    ta=p*((1+(r/100))**t)\n",
    "    ci=ta-p\n",
    "    print('CI:',ci)\n",
    "    print('Total amount:',ta)\n",
    "else:\n",
    "    print('enter simple or compound')"
   ]
  },
  {
   "cell_type": "code",
   "execution_count": null,
   "id": "a0737597",
   "metadata": {},
   "outputs": [
    {
     "name": "stdout",
     "output_type": "stream",
     "text": [
      "Message: HELLO\n",
      "Shift: 3\n",
      "Encrypted message: KHOOR\n"
     ]
    }
   ],
   "source": [
    "m=input().upper()\n",
    "s=int(input())\n",
    "enc=''\n",
    "for ch in m:\n",
    "    if ch.isalpha():\n",
    "        enc+=chr((ord(ch) - ord('A') + s) % 26 + ord('A'))\n",
    "    else:\n",
    "        enc+=ch\n",
    "print(\"Message:\",m)\n",
    "print(\"Shift:\",s)\n",
    "print(\"Encrypted message:\",enc)\n"
   ]
  },
  {
   "cell_type": "code",
   "execution_count": 58,
   "id": "06d96c11",
   "metadata": {},
   "outputs": [
    {
     "name": "stdout",
     "output_type": "stream",
     "text": [
      "Message: HELLO\n",
      "Shift: 3\n",
      "Encrypted Message: KHOOR\n"
     ]
    }
   ],
   "source": [
    "alphabet = \"ABCDEFGHIJKLMNOPQRSTUVWXYZ\"\n",
    "m = input(\"Enter message: \").upper()\n",
    "s = int(input(\"Enter shift value: \"))\n",
    "\n",
    "enc = \"\"\n",
    "for ch in m:\n",
    "    if ch in alphabet:\n",
    "        i = alphabet.index(ch)\n",
    "        ni = (i + s) % 26\n",
    "        enc += alphabet[ni]\n",
    "    else:\n",
    "        enc += ch\n",
    "print(\"Message:\",m)\n",
    "print(\"Shift:\",s)\n",
    "print(\"Encrypted Message:\", enc)\n"
   ]
  },
  {
   "cell_type": "code",
   "execution_count": 68,
   "id": "e0ff32de",
   "metadata": {},
   "outputs": [
    {
     "name": "stdout",
     "output_type": "stream",
     "text": [
      "Pin verified\n",
      "Withdraw successful: 2000\n",
      "Remaining balance: 3000\n"
     ]
    }
   ],
   "source": [
    "pin=1234\n",
    "p=int(input())\n",
    "balance=5000\n",
    "withdraw=int(input())\n",
    "rb=0\n",
    "if pin==p:\n",
    "    print(\"Pin verified\")\n",
    "    if withdraw<=balance:\n",
    "        print(\"Withdraw successful:\",withdraw)\n",
    "        rb=balance-withdraw\n",
    "        print(\"Remaining balance:\",rb)\n",
    "    else:\n",
    "        print(\"Insufficient balance\")\n",
    "else:\n",
    "    print(\"Incorrect pin\")"
   ]
  },
  {
   "cell_type": "code",
   "execution_count": null,
   "id": "095993f5",
   "metadata": {},
   "outputs": [
    {
     "name": "stdout",
     "output_type": "stream",
     "text": [
      "Current books: ['Python basics', 'AI Fundamentals', 'Machine Learning']\n",
      "Total books: 3\n"
     ]
    }
   ],
   "source": [
    "books=['Python basics','Data Science','AI Fundamentals']\n",
    "books.append(input())\n",
    "rb=input()\n",
    "if rb in books:\n",
    "    books.remove(rb)\n",
    "else:\n",
    "    print(\"Book not present to remove\")\n",
    "print(\"Current books:\",books)\n",
    "print(\"Total books:\",len(books))\n"
   ]
  },
  {
   "cell_type": "code",
   "execution_count": null,
   "id": "1c60c0c3",
   "metadata": {},
   "outputs": [],
   "source": []
  }
 ],
 "metadata": {
  "kernelspec": {
   "display_name": "Python 3",
   "language": "python",
   "name": "python3"
  },
  "language_info": {
   "codemirror_mode": {
    "name": "ipython",
    "version": 3
   },
   "file_extension": ".py",
   "mimetype": "text/x-python",
   "name": "python",
   "nbconvert_exporter": "python",
   "pygments_lexer": "ipython3",
   "version": "3.11.0"
  }
 },
 "nbformat": 4,
 "nbformat_minor": 5
}
