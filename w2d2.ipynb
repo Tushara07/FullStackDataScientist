{
 "cells": [
  {
   "cell_type": "code",
   "execution_count": 1,
   "id": "9e72e4f7",
   "metadata": {},
   "outputs": [
    {
     "name": "stdout",
     "output_type": "stream",
     "text": [
      "3\n"
     ]
    }
   ],
   "source": [
    "'''Text file Count words'''\n",
    "def cw():\n",
    "    with open('text.txt','r') as file:\n",
    "        f=file.read().split()\n",
    "        print(len(f))\n",
    "cw()"
   ]
  },
  {
   "cell_type": "code",
   "execution_count": 7,
   "id": "04fe380f",
   "metadata": {},
   "outputs": [
    {
     "name": "stdout",
     "output_type": "stream",
     "text": [
      "True\n",
      "Abc1234@\n"
     ]
    }
   ],
   "source": [
    "'''Write a program to check if a password is strong (at least 8 characters, contains uppercase, lowercase, digit, and special char).'''\n",
    "import string\n",
    "p=input()\n",
    "hu=any(c.isupper() for c in p)\n",
    "hl=any(c.islower() for c in p)\n",
    "hd=any(c.isdigit() for c in p)\n",
    "hp=any(c in string.punctuation for c in p)\n",
    "if len(p)<=8 and hu and hl and hd and hp:\n",
    "    print('True')\n",
    "    print(p)\n",
    "else:\n",
    "    print('False not strong')"
   ]
  },
  {
   "cell_type": "code",
   "execution_count": 10,
   "id": "9ac7e5dd",
   "metadata": {},
   "outputs": [
    {
     "name": "stdout",
     "output_type": "stream",
     "text": [
      "(5, 'Addition')\n",
      "(1, 'Subtraction')\n",
      "(6, 'Multiplication')\n",
      "(1.5, 'Division')\n"
     ]
    }
   ],
   "source": [
    "'''Implement a calculator with +, -, *, / operations'''\n",
    "def addition(a,b):\n",
    "    return a+b,'Addition'\n",
    "def subtraction(a,b):\n",
    "    return a-b,'Subtraction'\n",
    "def multiplication(a,b):\n",
    "    return a*b,'Multiplication'\n",
    "def divide(a,b):\n",
    "    if b==0:\n",
    "        return 'Error-Division by zero'\n",
    "    else:\n",
    "        return a/b,'Division'\n",
    "a,b=map(int,input().split())\n",
    "print(addition(a,b))\n",
    "print(subtraction(a,b))\n",
    "print(multiplication(a,b))\n",
    "print(divide(a,b))\n"
   ]
  },
  {
   "cell_type": "code",
   "execution_count": null,
   "id": "a3153613",
   "metadata": {},
   "outputs": [
    {
     "name": "stdout",
     "output_type": "stream",
     "text": [
      "[1, 2, 3, 1, 4, 5, 2, 9]\n"
     ]
    },
    {
     "data": {
      "text/plain": [
       "('duplicates', [1, 2])"
      ]
     },
     "execution_count": 24,
     "metadata": {},
     "output_type": "execute_result"
    }
   ],
   "source": [
    "'''Given a list of numbers, find duplicates'''\n",
    "def duplicates(l):\n",
    "    return 'duplicates' ,list({x for x in l if l.count(x)>1})\n",
    "l=list(map(int,input().split()))\n",
    "print(l)\n",
    "duplicates(l)"
   ]
  },
  {
   "cell_type": "code",
   "execution_count": 21,
   "id": "5af2e7bf",
   "metadata": {},
   "outputs": [
    {
     "name": "stdout",
     "output_type": "stream",
     "text": [
      "(86.0, 'F to C')\n"
     ]
    }
   ],
   "source": [
    "'''Convert between Celsius and Fahrenheit'''\n",
    "def ftoc(t):\n",
    "    f=((9/5)*t)+32\n",
    "    return f,'F to C'\n",
    "def ctof(t):\n",
    "    c=(5/9)*(t-32)\n",
    "    return c,'C to F'\n",
    "t=input()\n",
    "if t.endswith(('F','f')):\n",
    "    val=float(t[:-1])\n",
    "    print(ftoc(val))\n",
    "elif t.endswith(('C','c')):\n",
    "    val=float(t[:-1])\n",
    "    print(ctof(val))\n",
    "else:\n",
    "    print('Invalid')"
   ]
  },
  {
   "cell_type": "code",
   "execution_count": 26,
   "id": "c27fa792",
   "metadata": {},
   "outputs": [
    {
     "name": "stdout",
     "output_type": "stream",
     "text": [
      "[1, 2, 4, 3, 5, 9, 7]\n",
      "Largest: 9\n"
     ]
    }
   ],
   "source": [
    "'''Find the largest number from a list of integers'''\n",
    "l=list(map(int,input().split()))\n",
    "print(l)\n",
    "print('Largest:',max(l))"
   ]
  },
  {
   "cell_type": "code",
   "execution_count": 27,
   "id": "3b92dc43",
   "metadata": {},
   "outputs": [
    {
     "name": "stdout",
     "output_type": "stream",
     "text": [
      "SI: 500.0\n"
     ]
    }
   ],
   "source": [
    "'''Calculate Simple Interest'''\n",
    "p=float(input())\n",
    "t=float(input())\n",
    "r=float(input())\n",
    "si=(p*t*r)/100\n",
    "print('SI:',si)"
   ]
  },
  {
   "cell_type": "code",
   "execution_count": 34,
   "id": "1094a966",
   "metadata": {},
   "outputs": [
    {
     "name": "stdout",
     "output_type": "stream",
     "text": [
      "{'A': 85, 'B': 78, 'C': 74}\n",
      "Defaulter name: C : 74\n"
     ]
    }
   ],
   "source": [
    "'''Given a dictionary of student names and attendance %, find defaulters (<75%)'''\n",
    "dict={}\n",
    "n=int(input())\n",
    "for _ in range(n):\n",
    "    key=input()\n",
    "    value=int(input())\n",
    "    dict[key]=value\n",
    "print(dict)\n",
    "for k,i in dict.items():\n",
    "    if i<75:\n",
    "        print('Defaulter name:',k,':',i)\n",
    "    "
   ]
  },
  {
   "cell_type": "code",
   "execution_count": 41,
   "id": "2e6a0f04",
   "metadata": {},
   "outputs": [
    {
     "name": "stdout",
     "output_type": "stream",
     "text": [
      "10\n"
     ]
    }
   ],
   "source": [
    "'''Sum of digits'''\n",
    "n=int(input())\n",
    "s=0\n",
    "while n>0:\n",
    "    n1=n%10\n",
    "    s+=n1\n",
    "    n=n//10\n",
    "print(s)"
   ]
  },
  {
   "cell_type": "code",
   "execution_count": 53,
   "id": "b57d2b3b",
   "metadata": {},
   "outputs": [
    {
     "name": "stdout",
     "output_type": "stream",
     "text": [
      "Not prime\n"
     ]
    }
   ],
   "source": [
    "'''Prime number'''\n",
    "def prime(n):\n",
    "    if n<2:\n",
    "        return False\n",
    "    elif n==2:\n",
    "        return True\n",
    "    else:\n",
    "        for i in range(2,n):\n",
    "            if n%i==0:\n",
    "                return False\n",
    "            return True\n",
    "n=int(input())\n",
    "if prime(n):\n",
    "    print(\"Prime number\",n)\n",
    "else:\n",
    "    print(\"Not prime\")"
   ]
  },
  {
   "cell_type": "code",
   "execution_count": 55,
   "id": "2a036a26",
   "metadata": {},
   "outputs": [
    {
     "name": "stdout",
     "output_type": "stream",
     "text": [
      "[27, 12, 45, 61, 17]\n",
      "Smallest: 12\n",
      "Largest: 61\n"
     ]
    }
   ],
   "source": [
    "'''Find smallest and largest numbers from a list'''\n",
    "l=list(map(int,input().split()))\n",
    "print(l)\n",
    "print(\"Smallest:\",min(l))\n",
    "print(\"Largest:\",max(l))\n"
   ]
  },
  {
   "cell_type": "code",
   "execution_count": 57,
   "id": "8f3c1913",
   "metadata": {},
   "outputs": [
    {
     "name": "stdout",
     "output_type": "stream",
     "text": [
      "{'A': 1000.0, 'B': 2000.0, 'C': 3000.0}\n",
      "Total Bill: 6000.0\n"
     ]
    }
   ],
   "source": [
    "'''Given items with prices in a dictionary, calculate total bill'''\n",
    "dict={}\n",
    "n=int(input())\n",
    "for _ in range(n):\n",
    "    key=input()\n",
    "    value=float(input())\n",
    "    dict[key]=value\n",
    "print(dict)\n",
    "print(\"Total Bill:\",sum(dict.values()))\n"
   ]
  },
  {
   "cell_type": "code",
   "execution_count": 59,
   "id": "92bb25cb",
   "metadata": {},
   "outputs": [
    {
     "name": "stdout",
     "output_type": "stream",
     "text": [
      "10 12 6\n",
      "12 B is max\n"
     ]
    }
   ],
   "source": [
    "'''Input 3 numbers print the largest'''\n",
    "a,b,c=map(int,input().split())\n",
    "print(a,b,c)\n",
    "if a>b and a>c:\n",
    "    print(a,'A is max')\n",
    "elif b>a and b>c:\n",
    "    print(b,'B is max')\n",
    "else:\n",
    "    print(c,'C is max')\n"
   ]
  },
  {
   "cell_type": "code",
   "execution_count": 3,
   "id": "f977a867",
   "metadata": {},
   "outputs": [
    {
     "name": "stdout",
     "output_type": "stream",
     "text": [
      "{'a': 2, 'm': 1, 'z': 1, 'i': 1, 'n': 1, 'g': 1}\n"
     ]
    }
   ],
   "source": [
    "'''Count how many times each character appears in a string'''\n",
    "from collections import Counter\n",
    "str=input().lower()\n",
    "c=Counter(str)\n",
    "print(dict(c))\n",
    "\n"
   ]
  },
  {
   "cell_type": "code",
   "execution_count": null,
   "id": "4e4cc1f8",
   "metadata": {},
   "outputs": [
    {
     "name": "stdout",
     "output_type": "stream",
     "text": [
      "Bill of 80 : 400\n"
     ]
    }
   ],
   "source": [
    "'''Electricity bill'''\n",
    "u=int(input())\n",
    "b=0\n",
    "if u<=100:\n",
    "    b=u*5\n",
    "elif u<=200:\n",
    "    b=(100*5)+(u-100)*7\n",
    "else:\n",
    "    b=(100*5)+(100*7)+(u-200)*10\n",
    "print(\"Bill of\",u,\":\",b)"
   ]
  },
  {
   "cell_type": "code",
   "execution_count": 12,
   "id": "d6b434ba",
   "metadata": {},
   "outputs": [
    {
     "name": "stdout",
     "output_type": "stream",
     "text": [
      "Sorted list: ['arjun', 'bob', 'charan']\n"
     ]
    }
   ],
   "source": [
    "'''Sort list of names in ascending order'''\n",
    "l=input().lower().split()\n",
    "print('Sorted list:',sorted(l))"
   ]
  },
  {
   "cell_type": "code",
   "execution_count": 16,
   "id": "f48f150c",
   "metadata": {},
   "outputs": [
    {
     "name": "stdout",
     "output_type": "stream",
     "text": [
      "1234\n",
      "4321\n"
     ]
    }
   ],
   "source": [
    "'''Reverse of string'''\n",
    "a=input()\n",
    "print(a)\n",
    "print(a[::-1])"
   ]
  },
  {
   "cell_type": "code",
   "execution_count": 18,
   "id": "c414a64f",
   "metadata": {},
   "outputs": [
    {
     "name": "stdout",
     "output_type": "stream",
     "text": [
      "[12, -5, 27, -9, 0, 25, -4, 0]\n",
      "positive: 3\n",
      "negative: 3\n",
      "zeros: 2\n"
     ]
    }
   ],
   "source": [
    "'''Given a list, count positive, negative, and zero numbers'''\n",
    "l=list(map(int,input().split()))\n",
    "p,n,z=0,0,0\n",
    "for i in l:\n",
    "    if i==0:\n",
    "        z+=1\n",
    "    elif i>0:\n",
    "        p+=1\n",
    "    else:\n",
    "        n+=1\n",
    "print(l)\n",
    "print('positive:',p)\n",
    "print('negative:',n)\n",
    "print('zeros:',z)"
   ]
  },
  {
   "cell_type": "code",
   "execution_count": null,
   "id": "8cbfad61",
   "metadata": {},
   "outputs": [
    {
     "name": "stdout",
     "output_type": "stream",
     "text": [
      "Wrong Pin 123  Attempt left: 2\n",
      "Wrong Pin 258  Attempt left: 1\n",
      "Correct Pin 777\n"
     ]
    }
   ],
   "source": [
    "'''User has 3 attempts to enter correct PIN'''\n",
    "p='777'\n",
    "a=3\n",
    "while a>0:\n",
    "    pin=input(\"Enter pin:\")\n",
    "    if p==pin:\n",
    "        print(\"Correct Pin\",pin)\n",
    "        break\n",
    "    else:\n",
    "        a-=1\n",
    "        if a==0:\n",
    "            print(\"No attempts left\")\n",
    "        else:\n",
    "            print(\"Wrong Pin\",pin,\" Attempt left:\",a)\n"
   ]
  },
  {
   "cell_type": "code",
   "execution_count": 29,
   "id": "55d88813",
   "metadata": {},
   "outputs": [
    {
     "name": "stdout",
     "output_type": "stream",
     "text": [
      "Error Division by zero\n"
     ]
    }
   ],
   "source": [
    "''' Write a program that handles both ValueError (invalid input) and ZeroDivisionError'''\n",
    "try:\n",
    "    a,b=map(int,input().split())\n",
    "    c=a/b\n",
    "    print(c)\n",
    "except ValueError:\n",
    "    print(\"Enter valid number\")\n",
    "except ZeroDivisionError:\n",
    "    print(\"Error Division by zero\")"
   ]
  },
  {
   "cell_type": "code",
   "execution_count": 32,
   "id": "4bfb9651",
   "metadata": {},
   "outputs": [
    {
     "name": "stdout",
     "output_type": "stream",
     "text": [
      "Error: Withdraw is greater than balance\n"
     ]
    }
   ],
   "source": [
    "'''If withdrawal amount is greater than balance, raise an exception'''\n",
    "b=500\n",
    "try:\n",
    "    w=int(input())\n",
    "    if w>b:\n",
    "        raise Exception(\"Withdraw is greater than balance\")\n",
    "    else:\n",
    "        b-=w\n",
    "        print(\"Transaction successfull\")\n",
    "except Exception as e:\n",
    "    print(\"Error:\",e)"
   ]
  },
  {
   "cell_type": "code",
   "execution_count": 35,
   "id": "862a7f43",
   "metadata": {},
   "outputs": [
    {
     "name": "stdout",
     "output_type": "stream",
     "text": [
      "Bill of 80 : 400\n",
      "Bill processing finished\n"
     ]
    }
   ],
   "source": [
    "'''Calculate total price, handle invalid input, and always show \"Bill processing finished\" for Electricity Bill'''\n",
    "try:\n",
    "    u=int(input())\n",
    "    b=0\n",
    "    if u<=100:\n",
    "        b=u*5\n",
    "    elif u<=200:\n",
    "        b=(100*5)+(u-100)*7\n",
    "    else:\n",
    "        b=(100*5)+(100*7)+(u-200)*10\n",
    "    print(\"Bill of\",u,\":\",b)\n",
    "except ValueError:\n",
    "    print(\"Enter valid input\")\n",
    "finally:\n",
    "    print(\"Bill processing finished\")"
   ]
  },
  {
   "cell_type": "code",
   "execution_count": null,
   "id": "0a68199b",
   "metadata": {},
   "outputs": [],
   "source": []
  }
 ],
 "metadata": {
  "kernelspec": {
   "display_name": "Python 3",
   "language": "python",
   "name": "python3"
  },
  "language_info": {
   "codemirror_mode": {
    "name": "ipython",
    "version": 3
   },
   "file_extension": ".py",
   "mimetype": "text/x-python",
   "name": "python",
   "nbconvert_exporter": "python",
   "pygments_lexer": "ipython3",
   "version": "3.11.0"
  }
 },
 "nbformat": 4,
 "nbformat_minor": 5
}
