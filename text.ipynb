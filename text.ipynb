{
 "cells": [
  {
   "cell_type": "code",
   "execution_count": 1,
   "id": "6c02584e",
   "metadata": {},
   "outputs": [
    {
     "name": "stdout",
     "output_type": "stream",
     "text": [
      "30\n"
     ]
    }
   ],
   "source": [
    "a=10\n",
    "b=20\n",
    "print(a+b)"
   ]
  },
  {
   "cell_type": "code",
   "execution_count": 5,
   "id": "8c07ead7",
   "metadata": {},
   "outputs": [
    {
     "name": "stdout",
     "output_type": "stream",
     "text": [
      "a: 2\n",
      "b: 4\n",
      "a: 4\n",
      "b: 2\n"
     ]
    }
   ],
   "source": [
    "a,b=map(int,input().split())\n",
    "print(\"a:\",a)\n",
    "print(\"b:\",b)\n",
    "a,b=b,a\n",
    "print(\"a:\",a)\n",
    "print(\"b:\",b)"
   ]
  },
  {
   "cell_type": "code",
   "execution_count": 22,
   "id": "a5b7d49a",
   "metadata": {},
   "outputs": [
    {
     "name": "stdout",
     "output_type": "stream",
     "text": [
      "cba\n"
     ]
    }
   ],
   "source": [
    "a=input()\n",
    "rev=''.join(reversed(a))\n",
    "print(rev)"
   ]
  },
  {
   "cell_type": "code",
   "execution_count": 24,
   "id": "12b9b817",
   "metadata": {},
   "outputs": [
    {
     "name": "stdout",
     "output_type": "stream",
     "text": [
      "abc\n",
      "reverse : cba\n"
     ]
    }
   ],
   "source": [
    "a=input()\n",
    "print(a)\n",
    "print('reverse :',a[::-1])"
   ]
  },
  {
   "cell_type": "code",
   "execution_count": 33,
   "id": "f48fbe47",
   "metadata": {},
   "outputs": [
    {
     "name": "stdout",
     "output_type": "stream",
     "text": [
      "True\n",
      "153\n"
     ]
    }
   ],
   "source": [
    "a=int(input())\n",
    "temp=0\n",
    "b=str(a)\n",
    "d=len(b)\n",
    "c=a\n",
    "while a>0:\n",
    "    x=a%10\n",
    "    temp+=(x)**d\n",
    "    a=a//10\n",
    "if temp==c:\n",
    "    print(True)\n",
    "else:\n",
    "    print(False)\n",
    "print(temp)"
   ]
  },
  {
   "cell_type": "code",
   "execution_count": 70,
   "id": "fd8f4121",
   "metadata": {},
   "outputs": [
    {
     "name": "stdout",
     "output_type": "stream",
     "text": [
      "ae\n",
      "2\n",
      "ppl\n",
      "3\n"
     ]
    }
   ],
   "source": [
    "a=input()\n",
    "vowel=''\n",
    "cons=''\n",
    "for x in a:\n",
    "    if x.isalpha():\n",
    "        if x.lower() in 'aeiou':\n",
    "            vowel+=x\n",
    "        else:\n",
    "            cons+=x\n",
    "print(vowel)\n",
    "print(len(vowel))\n",
    "print(cons)\n",
    "print(len(cons))"
   ]
  },
  {
   "cell_type": "code",
   "execution_count": 44,
   "id": "421ebad9",
   "metadata": {},
   "outputs": [
    {
     "name": "stdout",
     "output_type": "stream",
     "text": [
      "2 x 1 = 2\n",
      "2 x 2 = 4\n",
      "2 x 3 = 6\n",
      "2 x 4 = 8\n",
      "2 x 5 = 10\n",
      "2 x 6 = 12\n",
      "2 x 7 = 14\n",
      "2 x 8 = 16\n",
      "2 x 9 = 18\n",
      "2 x 10 = 20\n"
     ]
    }
   ],
   "source": [
    "a=int(input())\n",
    "for i in range(1,11):\n",
    "    prod=a*i\n",
    "    print(a,'x',i,'=',prod)"
   ]
  },
  {
   "cell_type": "code",
   "execution_count": 49,
   "id": "7f02946c",
   "metadata": {},
   "outputs": [
    {
     "name": "stdout",
     "output_type": "stream",
     "text": [
      "2024 Leap year\n"
     ]
    }
   ],
   "source": [
    "l=int(input())\n",
    "if l%400==0 or (l%4==0 and l%100!=0):\n",
    "    print(l,\"Leap year\")\n",
    "else:\n",
    "    print(l,\"Not a leap year\")"
   ]
  },
  {
   "cell_type": "code",
   "execution_count": 56,
   "id": "5da3cc3a",
   "metadata": {},
   "outputs": [
    {
     "name": "stdout",
     "output_type": "stream",
     "text": [
      "1 2 3 4 5\n",
      "largest: 5\n"
     ]
    }
   ],
   "source": [
    "a,b,c,d,e=map(int,input().split())\n",
    "l=[a,b,c,d,e]\n",
    "print(a,b,c,d,e)\n",
    "print(\"largest:\",max(l))"
   ]
  },
  {
   "cell_type": "code",
   "execution_count": 61,
   "id": "2ff1aa89",
   "metadata": {},
   "outputs": [
    {
     "name": "stdout",
     "output_type": "stream",
     "text": [
      "palindrome\n"
     ]
    }
   ],
   "source": [
    "a=input()\n",
    "if a[::-1]==a:\n",
    "    print(\"palindrome\")\n",
    "else:\n",
    "    print(\"not palindrome\")"
   ]
  },
  {
   "cell_type": "code",
   "execution_count": 66,
   "id": "1b206d94",
   "metadata": {},
   "outputs": [
    {
     "name": "stdout",
     "output_type": "stream",
     "text": [
      "factorial: 720\n"
     ]
    }
   ],
   "source": [
    "import math \n",
    "n=int(input())\n",
    "print(\"factorial:\",math.factorial(n))"
   ]
  },
  {
   "cell_type": "code",
   "execution_count": 69,
   "id": "65cb37ac",
   "metadata": {},
   "outputs": [
    {
     "name": "stdout",
     "output_type": "stream",
     "text": [
      "factorial: 720\n"
     ]
    }
   ],
   "source": [
    "n=int(input())\n",
    "f=1\n",
    "for i in range(1,n+1):\n",
    "    f=f*i\n",
    "print(\"factorial:\",f)"
   ]
  },
  {
   "cell_type": "code",
   "execution_count": 81,
   "id": "b0cc2755",
   "metadata": {},
   "outputs": [
    {
     "name": "stdout",
     "output_type": "stream",
     "text": [
      "Prime 2\n"
     ]
    }
   ],
   "source": [
    "a = int(input())\n",
    "if a > 1:\n",
    "    for i in range(2, a):\n",
    "        if a % i == 0:  \n",
    "            print(\"not prime\",a)\n",
    "            break\n",
    "    else:\n",
    "        print(\"Prime\",a)\n",
    "else:\n",
    "    print(\"not prime\",a)"
   ]
  },
  {
   "cell_type": "code",
   "execution_count": 84,
   "id": "f20d6a46",
   "metadata": {},
   "outputs": [
    {
     "name": "stdout",
     "output_type": "stream",
     "text": [
      "[10, 20, 30, 40, 25, 50]\n",
      "[10, 20, 25, 30, 40, 50]\n",
      "Second largest: 40\n"
     ]
    }
   ],
   "source": [
    "n=[10,20,30,40,25,50]\n",
    "print(n)\n",
    "n.sort()\n",
    "print(n)\n",
    "print(\"Second largest:\",n[-2])"
   ]
  },
  {
   "cell_type": "code",
   "execution_count": 89,
   "id": "38caeb4c",
   "metadata": {},
   "outputs": [
    {
     "name": "stdout",
     "output_type": "stream",
     "text": [
      "2\n",
      "6\n",
      "12\n",
      "20\n",
      "30\n",
      "42\n",
      "56\n",
      "72\n",
      "90\n",
      "110\n",
      "132\n",
      "156\n",
      "182\n",
      "210\n",
      "240\n",
      "272\n",
      "306\n",
      "342\n",
      "380\n",
      "420\n",
      "462\n",
      "506\n",
      "552\n",
      "600\n",
      "650\n"
     ]
    }
   ],
   "source": [
    "s=0\n",
    "for i in range(2,51,2):\n",
    "    s=s+i\n",
    "    print(s)"
   ]
  },
  {
   "cell_type": "code",
   "execution_count": 87,
   "id": "97609f4c",
   "metadata": {},
   "outputs": [
    {
     "name": "stdout",
     "output_type": "stream",
     "text": [
      "650\n"
     ]
    }
   ],
   "source": [
    "print(sum(range(2,51,2)))"
   ]
  },
  {
   "cell_type": "code",
   "execution_count": 93,
   "id": "11b13bfb",
   "metadata": {},
   "outputs": [
    {
     "name": "stdout",
     "output_type": "stream",
     "text": [
      "PythonLab\n",
      "Lower: 7\n",
      "upper: 2\n"
     ]
    }
   ],
   "source": [
    "a=input()\n",
    "upper=0\n",
    "lower=0\n",
    "for ch in a:\n",
    "    if ch.isupper():\n",
    "        upper=upper+1\n",
    "    else:\n",
    "        lower=lower+1\n",
    "print(a)\n",
    "print(\"Lower:\",lower)\n",
    "print(\"upper:\",upper)"
   ]
  },
  {
   "cell_type": "code",
   "execution_count": 100,
   "id": "0aebebff",
   "metadata": {},
   "outputs": [
    {
     "name": "stdout",
     "output_type": "stream",
     "text": [
      "0 1 1 2 3 "
     ]
    }
   ],
   "source": [
    "n=int(input())\n",
    "a,b=0,1\n",
    "for _ in range(n):\n",
    "    print(a,end=\" \")\n",
    "    a,b=b,b+a\n",
    "    "
   ]
  },
  {
   "cell_type": "code",
   "execution_count": 105,
   "id": "2df5b80c",
   "metadata": {},
   "outputs": [
    {
     "name": "stdout",
     "output_type": "stream",
     "text": [
      "Anagram aabbcc abcabc\n"
     ]
    }
   ],
   "source": [
    "a=input().replace(\" \",\"\").lower()\n",
    "b=input().replace(\" \",\"\").lower()\n",
    "if sorted(a)==sorted(b):\n",
    "    print(\"Anagram\",a,b)\n",
    "else:\n",
    "    print(\"not an anagram\",a,b)"
   ]
  },
  {
   "cell_type": "code",
   "execution_count": 107,
   "id": "6ae791b5",
   "metadata": {},
   "outputs": [
    {
     "name": "stdout",
     "output_type": "stream",
     "text": [
      "not perfect 7\n"
     ]
    }
   ],
   "source": [
    "n=int(input())\n",
    "s=0\n",
    "for i in range(1,n):\n",
    "    if n%i==0:\n",
    "        s=s+i\n",
    "if s==n:\n",
    "    print(\"perfect\",n)\n",
    "else:\n",
    "    print(\"not perfect\",n)\n",
    "    "
   ]
  },
  {
   "cell_type": "code",
   "execution_count": 113,
   "id": "dc400d3b",
   "metadata": {},
   "outputs": [
    {
     "name": "stdout",
     "output_type": "stream",
     "text": [
      "grade B 83.4\n"
     ]
    }
   ],
   "source": [
    "marks=[]\n",
    "for i in range(5):\n",
    "    m=float(input())\n",
    "    marks.append(m)\n",
    "tot=sum(marks)\n",
    "p=tot/5\n",
    "if p>=90:\n",
    "    print(\"grade A\",p)\n",
    "elif p>=75 and p<90:\n",
    "    print(\"grade B\",p)\n",
    "elif p>=50 and p<75:\n",
    "    print(\"grade C\",p)\n",
    "else:\n",
    "    print(\"Fail\",p)"
   ]
  },
  {
   "cell_type": "code",
   "execution_count": 114,
   "id": "7c4a68af",
   "metadata": {},
   "outputs": [
    {
     "name": "stdout",
     "output_type": "stream",
     "text": [
      "2 3 5 7 11 13 17 19 23 29 31 37 41 43 47 53 59 61 67 71 73 79 83 89 97 "
     ]
    }
   ],
   "source": [
    "for num in range(2, 101):\n",
    "    for i in range(2, int(num**0.5) + 1):\n",
    "        if num % i == 0:\n",
    "            break\n",
    "    else:\n",
    "        print(num, end=\" \")\n"
   ]
  },
  {
   "cell_type": "code",
   "execution_count": 116,
   "id": "1f982823",
   "metadata": {},
   "outputs": [
    {
     "name": "stdout",
     "output_type": "stream",
     "text": [
      "chicken banana chicken banana\n",
      "Number of words: 4\n"
     ]
    }
   ],
   "source": [
    "sentence = input()\n",
    "print(sentence)\n",
    "count = 1 if sentence.strip() else 0\n",
    "\n",
    "for ch in sentence:\n",
    "    if ch == \" \":\n",
    "        count += 1\n",
    "\n",
    "print(\"Number of words:\", count)\n"
   ]
  },
  {
   "cell_type": "code",
   "execution_count": 117,
   "id": "680e026c",
   "metadata": {},
   "outputs": [
    {
     "name": "stdout",
     "output_type": "stream",
     "text": [
      "Final ticket price: 400.0\n"
     ]
    }
   ],
   "source": [
    "price = float(input(\"Enter ticket price: \"))\n",
    "age = int(input(\"Enter age: \"))\n",
    "student = input(\"Are you a student? (yes/no): \").lower()\n",
    "\n",
    "if student == \"yes\":\n",
    "    discount = 0.20\n",
    "elif age >= 60:\n",
    "    discount = 0.10\n",
    "else:\n",
    "    discount = 0\n",
    "\n",
    "final_price = price - (price * discount)\n",
    "print(\"Final ticket price:\", final_price)\n"
   ]
  },
  {
   "cell_type": "code",
   "execution_count": 118,
   "id": "386a7684",
   "metadata": {},
   "outputs": [
    {
     "name": "stdout",
     "output_type": "stream",
     "text": [
      "Final amount payable: 600.0\n"
     ]
    }
   ],
   "source": [
    "cart_total = float(input(\"Enter cart total: \"))\n",
    "if cart_total > 500:\n",
    "    final_amount = cart_total\n",
    "else:\n",
    "    final_amount = cart_total + 50\n",
    "print(\"Final amount payable:\", final_amount)\n"
   ]
  },
  {
   "cell_type": "code",
   "execution_count": 119,
   "id": "a13d2ddd",
   "metadata": {},
   "outputs": [
    {
     "name": "stdout",
     "output_type": "stream",
     "text": [
      "Grade: C\n"
     ]
    }
   ],
   "source": [
    "marks = int(input(\"Enter marks: \"))\n",
    "if marks >= 90:\n",
    "    grade = \"A\"\n",
    "elif marks >= 75:\n",
    "    grade = \"B\"\n",
    "elif marks >= 50:\n",
    "    grade = \"C\"\n",
    "else:\n",
    "    grade = \"Fail\"\n",
    "print(\"Grade:\", grade)\n"
   ]
  },
  {
   "cell_type": "code",
   "execution_count": 125,
   "id": "39d86ad7",
   "metadata": {},
   "outputs": [
    {
     "name": "stdout",
     "output_type": "stream",
     "text": [
      "Tip to be added: 183.0\n"
     ]
    }
   ],
   "source": [
    "bill = float(input(\"Enter bill amount: \"))\n",
    "if bill < 500:\n",
    "    tip = bill * 0.05\n",
    "elif bill>=500 and bill <= 1000:\n",
    "    tip = bill * 0.10\n",
    "else:\n",
    "    tip = bill * 0.15\n",
    "print(\"Tip to be added:\", tip)\n"
   ]
  },
  {
   "cell_type": "code",
   "execution_count": 126,
   "id": "f4ac262f",
   "metadata": {},
   "outputs": [
    {
     "name": "stdout",
     "output_type": "stream",
     "text": [
      "Cheapest option: 2700\n"
     ]
    }
   ],
   "source": [
    "months = int(input(\"Enter membership period in months: \"))\n",
    "\n",
    "cost_monthly = months * 500\n",
    "cost_6months = 2700\n",
    "cost_12months = 5000\n",
    "\n",
    "if months <= 6:\n",
    "    best_price = min(cost_monthly, cost_6months)\n",
    "else:\n",
    "    best_price = min(cost_monthly, cost_6months, cost_12months)\n",
    "\n",
    "print(\"Cheapest option:\", best_price)\n"
   ]
  },
  {
   "cell_type": "code",
   "execution_count": 133,
   "id": "ca68eb6a",
   "metadata": {},
   "outputs": [
    {
     "name": "stdout",
     "output_type": "stream",
     "text": [
      "Eligible\n"
     ]
    }
   ],
   "source": [
    "total_classes = int(input(\"Enter total classes: \"))\n",
    "attended = int(input(\"Enter classes attended: \"))\n",
    "\n",
    "attendance = (attended / total_classes) * 100\n",
    "if attendance >= 75:\n",
    "    print(\"Eligible\")\n",
    "else:\n",
    "    print(\"Not Eligible\")\n"
   ]
  },
  {
   "cell_type": "code",
   "execution_count": 135,
   "id": "6abea469",
   "metadata": {},
   "outputs": [
    {
     "name": "stdout",
     "output_type": "stream",
     "text": [
      "Transaction Successful\n"
     ]
    }
   ],
   "source": [
    "amount = int(input(\"Enter withdrawal amount: \"))\n",
    "if amount % 100 == 0:\n",
    "    print(\"Transaction Successful\")\n",
    "else:\n",
    "    print(\"Transaction Failed\")\n"
   ]
  },
  {
   "cell_type": "code",
   "execution_count": 137,
   "id": "c0d6caa1",
   "metadata": {},
   "outputs": [
    {
     "name": "stdout",
     "output_type": "stream",
     "text": [
      "Nice weather, go out!\n"
     ]
    }
   ],
   "source": [
    "temp = float(input(\"Enter temperature: \"))\n",
    "if temp > 35:\n",
    "    print(\"Too hot, stay indoors!\")\n",
    "elif temp >= 20:\n",
    "    print(\"Nice weather, go out!\")\n",
    "else:\n",
    "    print(\"It’s cold, wear warm clothes!\")\n"
   ]
  },
  {
   "cell_type": "code",
   "execution_count": 139,
   "id": "d505f230",
   "metadata": {},
   "outputs": [
    {
     "name": "stdout",
     "output_type": "stream",
     "text": [
      "Fine amount: 100\n"
     ]
    }
   ],
   "source": [
    "days = int(input(\"Enter number of late days: \"))\n",
    "if 1 <= days <= 5:\n",
    "    fine = 10\n",
    "elif 6 <= days <= 10:\n",
    "    fine = 50\n",
    "elif days > 10:\n",
    "    fine = 100\n",
    "else:\n",
    "    fine = 0\n",
    "print(\"Fine amount:\", fine)\n"
   ]
  },
  {
   "cell_type": "code",
   "execution_count": 140,
   "id": "5c3c4d0e",
   "metadata": {},
   "outputs": [
    {
     "name": "stdout",
     "output_type": "stream",
     "text": [
      "Bill amount: 4200\n"
     ]
    }
   ],
   "source": [
    "unit = int(input(\"Enter units consumed: \"))\n",
    "bill = 0\n",
    "\n",
    "if unit <= 100:\n",
    "    bill = unit * 5\n",
    "elif unit <= 200:\n",
    "    bill = (100 * 5) + ((unit - 100) * 7)\n",
    "else:\n",
    "    bill = (100 * 5) + (100 * 7) + ((unit - 200) * 10)\n",
    "\n",
    "print(\"Bill amount:\", bill)\n"
   ]
  },
  {
   "cell_type": "code",
   "execution_count": null,
   "id": "d53a4a14",
   "metadata": {},
   "outputs": [],
   "source": []
  }
 ],
 "metadata": {
  "kernelspec": {
   "display_name": "Python 3",
   "language": "python",
   "name": "python3"
  },
  "language_info": {
   "codemirror_mode": {
    "name": "ipython",
    "version": 3
   },
   "file_extension": ".py",
   "mimetype": "text/x-python",
   "name": "python",
   "nbconvert_exporter": "python",
   "pygments_lexer": "ipython3",
   "version": "3.11.0"
  }
 },
 "nbformat": 4,
 "nbformat_minor": 5
}
