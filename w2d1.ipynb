{
 "cells": [
  {
   "cell_type": "code",
   "execution_count": 2,
   "id": "fb9e73aa",
   "metadata": {},
   "outputs": [
    {
     "name": "stdout",
     "output_type": "stream",
     "text": [
      "[2, 3, 5, 7, 11, 13, 17, 19]\n"
     ]
    }
   ],
   "source": [
    "'''Prime number'''\n",
    "def prime(n):\n",
    "    if n<2:\n",
    "        return False\n",
    "    for i in range(2,n):\n",
    "        if n%i==0:\n",
    "            return False\n",
    "    return True\n",
    "n=int(input())\n",
    "p=[]\n",
    "\n",
    "for i in range(2,n+1):\n",
    "    if prime(i):\n",
    "        p.append(i)\n",
    "print(p)\n"
   ]
  },
  {
   "cell_type": "code",
   "execution_count": 9,
   "id": "c02d14cf",
   "metadata": {},
   "outputs": [
    {
     "name": "stdout",
     "output_type": "stream",
     "text": [
      "True\n"
     ]
    }
   ],
   "source": [
    "'''Palindrome string'''\n",
    "def p(str):\n",
    "    if str==str[::-1]:\n",
    "        return True\n",
    "    else:\n",
    "        return False\n",
    "str=input().lower().replace(\" \",\"\")\n",
    "if p(str):\n",
    "    print(\"True\")\n",
    "else:\n",
    "    print(\"False\")\n",
    "\n"
   ]
  },
  {
   "cell_type": "code",
   "execution_count": null,
   "id": "2d8f727c",
   "metadata": {},
   "outputs": [
    {
     "name": "stdout",
     "output_type": "stream",
     "text": [
      "True\n"
     ]
    }
   ],
   "source": [
    "'''Anagram'''\n",
    "def anagram(s1,s2):\n",
    "    if sorted(s1)==sorted(s2):\n",
    "        return True\n",
    "    else:\n",
    "        return False\n",
    "s1=input().replace(\" \",\"\").lower()\n",
    "s2=input().replace(\" \",\"\").lower()\n",
    "if anagram(s1,s2):\n",
    "    print(\"True\")\n",
    "else:\n",
    "    print(\"False\")\n"
   ]
  },
  {
   "cell_type": "code",
   "execution_count": null,
   "id": "ece38f3e",
   "metadata": {},
   "outputs": [
    {
     "name": "stdout",
     "output_type": "stream",
     "text": [
      "Vowels: 2\n",
      "Consonants: 3\n"
     ]
    }
   ],
   "source": [
    "'''Vowels Consonants'''\n",
    "\n",
    "def vc(str):\n",
    "    v=0\n",
    "    c=0\n",
    "    str=str.lower()    \n",
    "    for x in str:\n",
    "        if x.isalpha():\n",
    "            if x in 'aeiou':\n",
    "                v+=1\n",
    "    \n",
    "            else:\n",
    "                c+=1\n",
    "    print(\"Vowels:\",v)\n",
    "    print(\"Consonants:\",c)\n",
    "str=input()\n",
    "vc(str)\n",
    "\n",
    "                \n",
    "    \n"
   ]
  },
  {
   "cell_type": "code",
   "execution_count": 18,
   "id": "6a19825a",
   "metadata": {},
   "outputs": [
    {
     "name": "stdout",
     "output_type": "stream",
     "text": [
      "python is amazing\n"
     ]
    },
    {
     "data": {
      "text/plain": [
       "('amazing', 7)"
      ]
     },
     "execution_count": 18,
     "metadata": {},
     "output_type": "execute_result"
    }
   ],
   "source": [
    "'''Longest word counter'''\n",
    "def lvc(str):\n",
    "    w=str.split()\n",
    "    longest=max(w,key=len)\n",
    "    return longest,len(longest)\n",
    "str=input()\n",
    "print(str)\n",
    "lvc(str)\n",
    "\n"
   ]
  },
  {
   "cell_type": "code",
   "execution_count": null,
   "id": "ab8b42bd",
   "metadata": {},
   "outputs": [
    {
     "data": {
      "text/plain": [
       "'|x|Hs{AY'"
      ]
     },
     "execution_count": 22,
     "metadata": {},
     "output_type": "execute_result"
    }
   ],
   "source": [
    "'''Random password generator'''\n",
    "import string\n",
    "import random\n",
    "def rpg(n):\n",
    "    p=string.ascii_letters+string.digits+string.punctuation\n",
    "    return ''.join(random.choice(p) for _ in range(n))\n",
    "n=int(input())\n",
    "rpg(n)"
   ]
  },
  {
   "cell_type": "code",
   "execution_count": null,
   "id": "0901cef6",
   "metadata": {},
   "outputs": [
    {
     "name": "stdout",
     "output_type": "stream",
     "text": [
      "cos(0)\n"
     ]
    },
    {
     "data": {
      "text/plain": [
       "1.0"
      ]
     },
     "execution_count": 28,
     "metadata": {},
     "output_type": "execute_result"
    }
   ],
   "source": [
    "'''Math module calculator'''\n",
    "import math\n",
    "def mathcalc(exp):\n",
    "    print(exp)\n",
    "    exp=eval('math.'+exp)\n",
    "    return exp\n",
    "exp=input()\n",
    "mathcalc(exp)\n"
   ]
  },
  {
   "cell_type": "code",
   "execution_count": 31,
   "id": "2dc05241",
   "metadata": {},
   "outputs": [
    {
     "name": "stdout",
     "output_type": "stream",
     "text": [
      "['cat', 'dog', 'cat', 'cow']\n",
      "{'cat': 2, 'dog': 1, 'cow': 1}\n"
     ]
    }
   ],
   "source": [
    "'''Collections Counter'''\n",
    "from collections import Counter\n",
    "str=input().split()\n",
    "print(str)\n",
    "c=Counter(str)\n",
    "print(dict(c))"
   ]
  },
  {
   "cell_type": "code",
   "execution_count": 35,
   "id": "7e1db703",
   "metadata": {},
   "outputs": [
    {
     "name": "stdout",
     "output_type": "stream",
     "text": [
      "Weather: Sunny , Temp: 23\n"
     ]
    }
   ],
   "source": [
    "'''Weather simulator Random'''\n",
    "def ws():\n",
    "    weather=['Sunny','Raniy','Cloudy','Hot','Cool','Windy']\n",
    "    temp=range(20,42)\n",
    "    w=random.choice(weather)\n",
    "    t=random.choice(temp)\n",
    "    print('Weather:',w,', Temp:',t)\n",
    "ws()"
   ]
  },
  {
   "cell_type": "code",
   "execution_count": 39,
   "id": "069db433",
   "metadata": {},
   "outputs": [
    {
     "name": "stdout",
     "output_type": "stream",
     "text": [
      "5\n",
      "4\n",
      "3\n",
      "2\n",
      "1\n",
      "Time's up!\n"
     ]
    }
   ],
   "source": [
    "'''Countdown Time '''\n",
    "import time\n",
    "def tc(n):\n",
    "    while n>0:\n",
    "        print(n)\n",
    "        time.sleep(1)\n",
    "        n-=1\n",
    "    print(\"Time's up!\")\n",
    "n=int(input())\n",
    "tc(n)"
   ]
  },
  {
   "cell_type": "code",
   "execution_count": 40,
   "id": "6be997f0",
   "metadata": {},
   "outputs": [
    {
     "name": "stdout",
     "output_type": "stream",
     "text": [
      "Deposited: 100 Current balance: 600\n",
      "Withdraw: 50 Current balance: 550\n",
      "Toatal Balance: 550\n"
     ]
    }
   ],
   "source": [
    "'''Bank acc class'''\n",
    "class BankAccount():\n",
    "    def __init__(self,balance=0,owner='Unknown'):\n",
    "        self.balance=balance\n",
    "        self.owner=owner\n",
    "    def deposit(self,amount):\n",
    "        self.balance+=amount\n",
    "        print('Deposited:',amount,'Current balance:',self.balance)\n",
    "    def withdraw(self,amount):\n",
    "        if self.balance>=amount:\n",
    "            self.balance-=amount\n",
    "            print('Withdraw:',amount,'Current balance:',self.balance)\n",
    "        else:\n",
    "            print('Insufficient Balance')\n",
    "    def get_balance(self):\n",
    "        return self.balance\n",
    "acc=BankAccount(500,'python')\n",
    "acc.deposit(100)\n",
    "acc.withdraw(50)\n",
    "print('Toatal Balance:',acc.get_balance())\n",
    "\n"
   ]
  },
  {
   "cell_type": "code",
   "execution_count": 43,
   "id": "b9f180aa",
   "metadata": {},
   "outputs": [
    {
     "name": "stdout",
     "output_type": "stream",
     "text": [
      "Avg of marks: 91.2\n",
      "After adding: [90, 88, 98, 95, 85, 100]\n",
      "Highest mark: 100\n",
      "Lowest mark: 85\n"
     ]
    }
   ],
   "source": [
    "'''Student class'''\n",
    "class Student:\n",
    "    def __init__(self,name='Unknown',marks=None):\n",
    "        self.name=name\n",
    "        self.marks=marks\n",
    "    def get_avg(self):\n",
    "        a=sum(self.marks)/len(self.marks)\n",
    "        return a\n",
    "    def add_mark(self,mark):\n",
    "        self.marks.append(mark)\n",
    "        print(\"After adding:\",self.marks)\n",
    "    def get_highest(self):\n",
    "        return max(self.marks)\n",
    "    def get_lowest(self):\n",
    "        return min(self.marks)\n",
    "s=Student('Bob',[90,88,98,95,85])\n",
    "print(\"Avg of marks:\",s.get_avg())\n",
    "s.add_mark(100)\n",
    "print(\"Highest mark:\",s.get_highest())\n",
    "print(\"Lowest mark:\",s.get_lowest())\n",
    "    "
   ]
  },
  {
   "cell_type": "code",
   "execution_count": 44,
   "id": "be5dd212",
   "metadata": {},
   "outputs": [
    {
     "name": "stdout",
     "output_type": "stream",
     "text": [
      "10000.0\n",
      "4000.0\n",
      "1000.0\n"
     ]
    }
   ],
   "source": [
    "'''Employee Bonus system'''\n",
    "class Employee:\n",
    "    def __init__(self,name='Unknown',salary=0,role='Unknown'):\n",
    "        self.name=name\n",
    "        self.salary=salary\n",
    "        self.role=role\n",
    "    def bonus(self):\n",
    "        return 0\n",
    "class Manager(Employee):\n",
    "    def bonus(self):\n",
    "        return self.salary*0.20\n",
    "class Developer(Employee):\n",
    "    def bonus(self):\n",
    "        return self.salary*0.1\n",
    "class Intern(Employee):\n",
    "    def bonus(self):\n",
    "        return self.salary*0.05\n",
    "m=Manager('Bob',50000)\n",
    "d=Developer('Viyana',40000)\n",
    "i=Intern('a1',20000)\n",
    "print(m.bonus())\n",
    "print(d.bonus())\n",
    "print(i.bonus())\n"
   ]
  },
  {
   "cell_type": "code",
   "execution_count": 45,
   "id": "6a86b480",
   "metadata": {},
   "outputs": [
    {
     "name": "stdout",
     "output_type": "stream",
     "text": [
      "Added: Shirt - 500\n",
      "Added: Shoes - 1500\n",
      "Items in order:\n",
      "Shirt : 500\n",
      "Shoes : 1500\n",
      "Total = 2000\n",
      "Removed: Shirt\n",
      "Items in order:\n",
      "Shoes : 1500\n",
      "Total = 1500\n"
     ]
    }
   ],
   "source": [
    "'''Order class for e-commerce'''\n",
    "class Order:\n",
    "    def __init__(self):\n",
    "        self.items = {}   \n",
    "\n",
    "    def add(self, item, price):\n",
    "        self.items[item] = price\n",
    "        print(\"Added:\", item, \"-\", price)\n",
    "\n",
    "    def remove(self, item):\n",
    "        if item in self.items:\n",
    "            del self.items[item]\n",
    "            print(\"Removed:\", item)\n",
    "        else:\n",
    "            print(item, \"not found\")\n",
    "\n",
    "    def calculate_total(self):\n",
    "        total = sum(self.items.values())\n",
    "        print(\"Total =\", total)\n",
    "        return total\n",
    "\n",
    "    def show_items(self):\n",
    "        if self.items:\n",
    "            print(\"Items in order:\")\n",
    "            for item, price in self.items.items():\n",
    "                print(item, \":\", price)\n",
    "        else:\n",
    "            print(\"No items in the order\")\n",
    "\n",
    "\n",
    "order = Order()\n",
    "order.add(\"Shirt\", 500)\n",
    "order.add(\"Shoes\", 1500)\n",
    "order.show_items()\n",
    "total = order.calculate_total()   \n",
    "order.remove(\"Shirt\")\n",
    "order.show_items()\n",
    "total = order.calculate_total()\n"
   ]
  },
  {
   "cell_type": "code",
   "execution_count": 46,
   "id": "e0750f74",
   "metadata": {},
   "outputs": [
    {
     "name": "stdout",
     "output_type": "stream",
     "text": [
      "Circle area: 153.94\n",
      "Rectangle area: 20\n"
     ]
    }
   ],
   "source": [
    "'''Shape area calculator'''\n",
    "import math\n",
    "class Shape:\n",
    "    def __init__(self, name='Shape'):\n",
    "        self.name = name\n",
    "class Circle(Shape):\n",
    "    def __init__(self, radius):\n",
    "        super().__init__('Circle')\n",
    "        self.radius = radius\n",
    "    def area(self):\n",
    "        return round(math.pi * self.radius ** 2, 2)\n",
    "class Rectangle(Shape):\n",
    "    def __init__(self, width, height):\n",
    "        super().__init__('Rectangle')\n",
    "        self.width = width\n",
    "        self.height = height\n",
    "    def area(self):\n",
    "        return self.width * self.height\n",
    "c = Circle(7)\n",
    "print(\"Circle area:\", c.area())\n",
    "r = Rectangle(4, 5)\n",
    "print(\"Rectangle area:\", r.area())\n"
   ]
  },
  {
   "cell_type": "code",
   "execution_count": 47,
   "id": "60048e0e",
   "metadata": {},
   "outputs": [
    {
     "data": {
      "text/plain": [
       "[0, 1, 1, 2, 3, 5, 8]"
      ]
     },
     "execution_count": 47,
     "metadata": {},
     "output_type": "execute_result"
    }
   ],
   "source": [
    "'''Fibanocci'''\n",
    "def fib(n):\n",
    "    f=[0,1]\n",
    "    for i in range(2,n):\n",
    "        f.append(f[i-1]+f[i-2])\n",
    "    return f[:n]\n",
    "n=int(input())\n",
    "fib(n)"
   ]
  },
  {
   "cell_type": "code",
   "execution_count": 49,
   "id": "d841af49",
   "metadata": {},
   "outputs": [
    {
     "data": {
      "text/plain": [
       "1"
      ]
     },
     "execution_count": 49,
     "metadata": {},
     "output_type": "execute_result"
    }
   ],
   "source": [
    "'''Factorial recursion'''\n",
    "def fact(n):\n",
    "    if n<2:\n",
    "        return 1\n",
    "    else:\n",
    "        return n*fact(n-1)\n",
    "n=int(input())\n",
    "fact(n)\n"
   ]
  },
  {
   "cell_type": "code",
   "execution_count": 52,
   "id": "40f75584",
   "metadata": {},
   "outputs": [
    {
     "name": "stdout",
     "output_type": "stream",
     "text": [
      "apple banana apple banana orange\n",
      "{'apple': 2, 'banana': 2, 'orange': 1}\n"
     ]
    }
   ],
   "source": [
    "'''Unique word counter'''\n",
    "from collections import Counter\n",
    "def counter(str):\n",
    "    str=str.split()\n",
    "    c=Counter(str)\n",
    "    print(dict(c))\n",
    "str=input()\n",
    "print(str)\n",
    "counter(str)\n"
   ]
  },
  {
   "cell_type": "code",
   "execution_count": 57,
   "id": "eb816257",
   "metadata": {},
   "outputs": [
    {
     "data": {
      "text/plain": [
       "'Grade: A'"
      ]
     },
     "execution_count": 57,
     "metadata": {},
     "output_type": "execute_result"
    }
   ],
   "source": [
    "'''Grade Calculator'''\n",
    "def grade_calculator(marks):\n",
    "    avg = sum(marks) / len(marks)\n",
    "    if avg >= 80:\n",
    "        return \"Grade: A\"\n",
    "    elif avg >= 60:\n",
    "        return \"Grade: B\"\n",
    "    elif avg >= 40:\n",
    "        return \"Grade: C\"\n",
    "    else:\n",
    "        return \"Grade: F\"\n",
    "marks = list(map(int, input().split()))\n",
    "grade_calculator(marks)"
   ]
  },
  {
   "cell_type": "code",
   "execution_count": 61,
   "id": "d5f4cb91",
   "metadata": {},
   "outputs": [
    {
     "name": "stdout",
     "output_type": "stream",
     "text": [
      "[10, 8, 5, 20, 4]\n"
     ]
    },
    {
     "data": {
      "text/plain": [
       "10"
      ]
     },
     "execution_count": 61,
     "metadata": {},
     "output_type": "execute_result"
    }
   ],
   "source": [
    "'''Second largest number'''\n",
    "def sln(l):\n",
    "    lst=list(set(l))\n",
    "    lst.sort()\n",
    "    if len(lst)>=2 :\n",
    "        return lst[-2]\n",
    "    else:\n",
    "        return None\n",
    "l=list(map(int,input().split()))\n",
    "print(l)\n",
    "sln(l)"
   ]
  },
  {
   "cell_type": "code",
   "execution_count": 66,
   "id": "dff8881d",
   "metadata": {},
   "outputs": [
    {
     "name": "stdout",
     "output_type": "stream",
     "text": [
      "Text files: 2\n",
      "Python files: 2\n"
     ]
    }
   ],
   "source": [
    "'''File extension counter'''\n",
    "import os\n",
    "\n",
    "def fec(files,ext):\n",
    "    c=0\n",
    "    for f in files:\n",
    "        if f.endswith(ext):\n",
    "            c+=1\n",
    "    return c\n",
    "files = [\"notes.txt\", \"app.py\", \"data.csv\", \"report.txt\", \"main.py\"]\n",
    "print(\"Text files:\", fec(files,\".txt\"))\n",
    "print(\"Python files:\", fec(files,\".py\"))\n",
    "\n"
   ]
  },
  {
   "cell_type": "code",
   "execution_count": 67,
   "id": "cd9fe827",
   "metadata": {},
   "outputs": [
    {
     "name": "stdout",
     "output_type": "stream",
     "text": [
      "Mean = 87.86\n",
      "Median = 90\n",
      "Variance = 73.81\n"
     ]
    }
   ],
   "source": [
    "'''Statictics'''\n",
    "import statistics\n",
    "def exam_analysis(scores):\n",
    "    mean = round(statistics.mean(scores), 2)\n",
    "    median = statistics.median(scores)\n",
    "    var = round(statistics.variance(scores), 2)\n",
    "    return mean, median, var\n",
    "scores = [75, 80, 90, 100, 85, 90, 95]\n",
    "mean, median, var = exam_analysis(scores)\n",
    "print(\"Mean =\", mean)\n",
    "print(\"Median =\", median)\n",
    "print(\"Variance =\", var)\n"
   ]
  },
  {
   "cell_type": "code",
   "execution_count": 68,
   "id": "763d5566",
   "metadata": {},
   "outputs": [
    {
     "name": "stdout",
     "output_type": "stream",
     "text": [
      "Roots are: (2.0, 1.0)\n"
     ]
    }
   ],
   "source": [
    "'''Quadratic equation'''\n",
    "import math\n",
    "def quadratic_solver(a, b, c):\n",
    "    d = b**2 - 4*a*c\n",
    "    if d < 0:\n",
    "        return None\n",
    "    root1 = (-b + math.sqrt(d)) / (2*a)\n",
    "    root2 = (-b - math.sqrt(d)) / (2*a)\n",
    "    return root1, root2\n",
    "a, b, c = 1, -3, 2\n",
    "roots = quadratic_solver(a, b, c)\n",
    "print(\"Roots are:\", roots)\n"
   ]
  },
  {
   "cell_type": "code",
   "execution_count": null,
   "id": "7bea9650",
   "metadata": {},
   "outputs": [
    {
     "name": "stdout",
     "output_type": "stream",
     "text": [
      "You chose Rock Computer chose Paper\n",
      "You Lose!\n"
     ]
    }
   ],
   "source": [
    "'''Rock paper scissor'''\n",
    "import random\n",
    "def rps_game(user_choice):\n",
    "    options = [\"Rock\", \"Paper\", \"Scissors\"]\n",
    "    computer = random.choice(options)\n",
    "    print(\"You chose\", user_choice, \"Computer chose\", computer)\n",
    "    if user_choice == computer:\n",
    "        print(\"Tie!\")\n",
    "    elif (user_choice == \"Rock\" and computer == \"Scissors\") or \\\n",
    "         (user_choice == \"Paper\" and computer == \"Rock\") or \\\n",
    "         (user_choice == \"Scissors\" and computer == \"Paper\"):\n",
    "        print(\"You Win!\")\n",
    "    else:\n",
    "        print(\"You Lose!\")\n",
    "rps_game('Rock')"
   ]
  },
  {
   "cell_type": "code",
   "execution_count": null,
   "id": "7ae7e511",
   "metadata": {},
   "outputs": [],
   "source": [
    "'''Command line Sum'''\n",
    "import sys\n",
    "def sum_from_cli():\n",
    "    numbers = list(map(int, sys.argv[1:]))\n",
    "    total = sum(numbers)\n",
    "    print(\"Sum =\", total)"
   ]
  },
  {
   "cell_type": "code",
   "execution_count": 73,
   "id": "32b3a25b",
   "metadata": {},
   "outputs": [
    {
     "name": "stdout",
     "output_type": "stream",
     "text": [
      "('You borrowed', 'Python 101')\n",
      "('You returned', 'Python 101')\n",
      "Available books: {'Python 101': 3, 'Data Science': 2}\n"
     ]
    }
   ],
   "source": [
    "'''Library System'''\n",
    "class Library:\n",
    "    def __init__(self, books):\n",
    "        self.books = books\n",
    "\n",
    "    def borrow(self, title):\n",
    "        if title in self.books and self.books[title] > 0:\n",
    "            self.books[title] -= 1\n",
    "            return \"You borrowed\", title\n",
    "        else:\n",
    "            return \"Book not available\"\n",
    "\n",
    "    def return_book(self, title):\n",
    "        if title in self.books:\n",
    "            self.books[title] += 1\n",
    "        else:\n",
    "            self.books[title] = 1\n",
    "        return \"You returned\", title\n",
    "\n",
    "    def show_books(self):\n",
    "        print('Available books:', self.books)\n",
    "        \n",
    "lib = Library({\"Python 101\": 3, \"Data Science\": 2})\n",
    "print(lib.borrow(\"Python 101\"))\n",
    "print(lib.return_book(\"Python 101\"))\n",
    "lib.show_books()\n"
   ]
  },
  {
   "cell_type": "code",
   "execution_count": 74,
   "id": "f2baf98d",
   "metadata": {},
   "outputs": [
    {
     "name": "stdout",
     "output_type": "stream",
     "text": [
      "Access Granted\n",
      "('Deposited', 200)\n",
      "('Withdrew', 100)\n",
      "('Balance:', 600)\n"
     ]
    }
   ],
   "source": [
    "'''ATM machine'''\n",
    "class ATM:\n",
    "    def __init__(self, pin, balance=0):\n",
    "        self.pin = pin\n",
    "        self.balance = balance\n",
    "        self.is_authenticated = False\n",
    "\n",
    "    def login(self, entered_pin):\n",
    "        if entered_pin == self.pin:\n",
    "            self.is_authenticated = True\n",
    "            return \"Access Granted\"\n",
    "        else:\n",
    "            return \"Access Denied\"\n",
    "\n",
    "    def check_balance(self):\n",
    "        if self.is_authenticated:\n",
    "            return \"Balance:\", self.balance\n",
    "        return \"Please login first\"\n",
    "\n",
    "    def deposit(self, amount):\n",
    "        if self.is_authenticated:\n",
    "            self.balance += amount\n",
    "            return \"Deposited\", amount\n",
    "        return \"Please login first\"\n",
    "\n",
    "    def withdraw(self, amount):\n",
    "        if self.is_authenticated:\n",
    "            if self.balance >= amount:\n",
    "                self.balance -= amount\n",
    "                return \"Withdrew\", amount\n",
    "            return \"Insufficient Balance\"\n",
    "        return \"Please login first\"\n",
    "\n",
    "atm = ATM(1234, 500)\n",
    "print(atm.login(1234))\n",
    "print(atm.deposit(200))\n",
    "print(atm.withdraw(100))\n",
    "print(atm.check_balance())\n"
   ]
  },
  {
   "cell_type": "code",
   "execution_count": 75,
   "id": "8f209538",
   "metadata": {},
   "outputs": [
    {
     "name": "stdout",
     "output_type": "stream",
     "text": [
      "('Dr. Smith', 'is teaching', 'Python')\n",
      "('Alice', 'enrolled in', 'Python')\n",
      "('Dr. Smith', 'assigned:', 'Project 1')\n",
      "('Alice', 'submitted:', 'Project 1')\n"
     ]
    }
   ],
   "source": [
    "'''University system'''\n",
    "class Professor:\n",
    "    def __init__(self, name, subject):\n",
    "        self.name = name\n",
    "        self.subject = subject\n",
    "\n",
    "    def teach(self, course):\n",
    "        return self.name, \"is teaching\", course\n",
    "\n",
    "    def give_assignment(self, task):\n",
    "        return self.name, \"assigned:\", task\n",
    "\n",
    "class Student:\n",
    "    def __init__(self, name):\n",
    "        self.name = name\n",
    "        self.courses = []\n",
    "        self.assignments = []\n",
    "\n",
    "    def enroll(self, course):\n",
    "        self.courses.append(course)\n",
    "        return self.name, \"enrolled in\", course\n",
    "\n",
    "    def submit_assignment(self, task):\n",
    "        self.assignments.append(task)\n",
    "        return self.name, \"submitted:\", task\n",
    "\n",
    "prof = Professor(\"Dr. Smith\", \"Computer Science\")\n",
    "stud = Student(\"Alice\")\n",
    "print(prof.teach(\"Python\"))\n",
    "print(stud.enroll(\"Python\"))\n",
    "print(prof.give_assignment(\"Project 1\"))\n",
    "print(stud.submit_assignment(\"Project 1\"))\n"
   ]
  },
  {
   "cell_type": "code",
   "execution_count": 76,
   "id": "ae2c7a94",
   "metadata": {},
   "outputs": [
    {
     "name": "stdout",
     "output_type": "stream",
     "text": [
      "('Booked', 2, 'tickets for', 'Avatar')\n",
      "('Cancelled', 1, 'ticket(s) for', 'Avatar')\n",
      "Movies: {'Avatar': 9, 'Batman': 5}\n"
     ]
    }
   ],
   "source": [
    "'''Movie ticket booking'''\n",
    "class Cinema:\n",
    "    def __init__(self, movies):\n",
    "        self.movies = movies\n",
    "\n",
    "    def book(self, movie, seats):\n",
    "        if movie in self.movies and self.movies[movie] >= seats:\n",
    "            self.movies[movie] -= seats\n",
    "            return \"Booked\", seats, \"tickets for\", movie\n",
    "        return \"Not enough seats or movie not found\"\n",
    "\n",
    "    def cancel(self, movie, seats):\n",
    "        if movie in self.movies:\n",
    "            self.movies[movie] += seats\n",
    "            return \"Cancelled\", seats, \"ticket(s) for\", movie\n",
    "        return \"Movie not found\"\n",
    "\n",
    "    def show_movies(self):\n",
    "        print(\"Movies:\", self.movies)\n",
    "\n",
    "cinema = Cinema({\"Avatar\": 10, \"Batman\": 5})\n",
    "print(cinema.book(\"Avatar\", 2))\n",
    "print(cinema.cancel(\"Avatar\", 1))\n",
    "cinema.show_movies()\n"
   ]
  },
  {
   "cell_type": "code",
   "execution_count": 77,
   "id": "ed7ab84c",
   "metadata": {},
   "outputs": [
    {
     "name": "stdout",
     "output_type": "stream",
     "text": [
      "('Burger', 'added')\n",
      "('Pizza', 'added')\n",
      "('Pizza', 'price updated to', 250)\n",
      "('Burger', 'removed')\n",
      "Menu: {'Pizza': 250}\n"
     ]
    }
   ],
   "source": [
    "'''Restraunt Menu'''\n",
    "class Menu:\n",
    "    def __init__(self):\n",
    "        self.items = {}\n",
    "\n",
    "    def add_item(self, name, price):\n",
    "        self.items[name] = price\n",
    "        return name, \"added\"\n",
    "\n",
    "    def remove_item(self, name):\n",
    "        if name in self.items:\n",
    "            del self.items[name]\n",
    "            return name, \"removed\"\n",
    "        return \"Item not found\"\n",
    "\n",
    "    def update_price(self, name, new_price):\n",
    "        if name in self.items:\n",
    "            self.items[name] = new_price\n",
    "            return name, \"price updated to\", new_price\n",
    "        return \"Item not found\"\n",
    "\n",
    "    def show_menu(self):\n",
    "        print(\"Menu:\", self.items)\n",
    "\n",
    "menu = Menu()\n",
    "print(menu.add_item(\"Burger\", 100))\n",
    "print(menu.add_item(\"Pizza\", 200))\n",
    "print(menu.update_price(\"Pizza\", 250))\n",
    "print(menu.remove_item(\"Burger\"))\n",
    "menu.show_menu()\n"
   ]
  },
  {
   "cell_type": "code",
   "execution_count": null,
   "id": "0818b965",
   "metadata": {},
   "outputs": [],
   "source": []
  }
 ],
 "metadata": {
  "kernelspec": {
   "display_name": "Python 3",
   "language": "python",
   "name": "python3"
  },
  "language_info": {
   "codemirror_mode": {
    "name": "ipython",
    "version": 3
   },
   "file_extension": ".py",
   "mimetype": "text/x-python",
   "name": "python",
   "nbconvert_exporter": "python",
   "pygments_lexer": "ipython3",
   "version": "3.11.0"
  }
 },
 "nbformat": 4,
 "nbformat_minor": 5
}
